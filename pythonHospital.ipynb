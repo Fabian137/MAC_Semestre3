{
  "nbformat": 4,
  "nbformat_minor": 0,
  "metadata": {
    "colab": {
      "provenance": [],
      "authorship_tag": "ABX9TyOoQq92qOL2bHyD1aPAwXic",
      "include_colab_link": true
    },
    "kernelspec": {
      "name": "python3",
      "display_name": "Python 3"
    },
    "language_info": {
      "name": "python"
    }
  },
  "cells": [
    {
      "cell_type": "markdown",
      "metadata": {
        "id": "view-in-github",
        "colab_type": "text"
      },
      "source": [
        "<a href=\"https://colab.research.google.com/github/Fidek17/ProgramasMAC/blob/EstructuradeDatos/pythonHospital.ipynb\" target=\"_parent\"><img src=\"https://colab.research.google.com/assets/colab-badge.svg\" alt=\"Open In Colab\"/></a>"
      ]
    },
    {
      "cell_type": "code",
      "execution_count": 18,
      "metadata": {
        "id": "qqg7CVhd9kVL",
        "colab": {
          "base_uri": "https://localhost:8080/"
        },
        "outputId": "e6385232-b05f-49a8-de08-617875ee29cf"
      },
      "outputs": [
        {
          "output_type": "stream",
          "name": "stdout",
          "text": [
            "El número de pacientes que deseas agregar: 1\n",
            "Datos del paciente 1: \n",
            "Dame el nombre del paciente: Fidel\n",
            "¿Cuál es el sexo del paciente (M/F): \n",
            "Calle: \n",
            "Ciudad: \n",
            "¿Esta asegurado? (Sí/No): \n",
            "\n",
            "Paciente 1:\n",
            "Nombre: Fidel\n",
            "Sexo: No especificado\n",
            "Asegurado: No especificado\n",
            "\n",
            "El nombre del paciente 1: Fidel\n"
          ]
        }
      ],
      "source": [
        "def ingresarpaciente():\n",
        "  nombre = input(\"Dame el nombre del paciente: \")\n",
        "  edad = int(input(\"Dame la edad del paciente: \"))\n",
        "\n",
        "  sexo = input(\"¿Cuál es el sexo del paciente (M/F): \") or \"No especificado\"\n",
        "  domicilio = {\n",
        "      \"calle\": input(\"Calle: \") or \"No especificado\",\n",
        "      #\"numero\": int(input(\"Numero: \")),\n",
        "      \"ciudad\": input(\"Ciudad: \") or \"No especificado\"\n",
        "  }\n",
        "  #telefono = int(input(\"Teléfono: \"))\n",
        "  seguro = input(\"¿Esta asegurado? (Sí/No): \") or \"No especificado\"\n",
        "\n",
        "  paciente = {\n",
        "      \"nombre\": nombre,\n",
        "      \"edad\": edad,\n",
        "      \"sexo\": sexo,\n",
        "      #\"domicilio\": domicilio,\n",
        "     #\"telefono\": telefono,\n",
        "      \"seguro\": seguro\n",
        "  }\n",
        "  print()\n",
        "  return  paciente\n",
        "\n",
        "def porcentaje_pacientes13(pacientes):\n",
        "  menores13= 0\n",
        "  for elemento in pacientes:\n",
        "    edad = elemento.get(\"edad\")\n",
        "\n",
        "    if edad<13:\n",
        "      menores13=menores13+1\n",
        "\n",
        "    totalpacientes=len(pacientes)\n",
        "    porcentaje =\n",
        "\n",
        "\n",
        "pacienteslista = []\n",
        "\n",
        "n = int(input(\"El número de pacientes que deseas agregar: \"))\n",
        "\n",
        "for i in range(n):\n",
        "  print(f\"Datos del paciente {i+1}: \")\n",
        "  paciente = ingresarpaciente()\n",
        "  pacienteslista.append(paciente)\n",
        "\n",
        "for i, elemento in enumerate(pacienteslista, start=1):\n",
        "    print(f\"Paciente {i}:\")\n",
        "    print(f\"Nombre: {elemento['nombre']}\")\n",
        "    print(f\"Edad: {elemento['edad']} años\")\n",
        "\n",
        "    print(f\"Sexo: {elemento['sexo']}\")\n",
        "    #print(f\"Domicilio: {elemento['domicilio']['calle']} {elemento['domicilio']['numero']}, {elemento['domicilio']['ciudad']}\")\n",
        "    #print(f\"Teléfono: {elemento['telefono']}\")\n",
        "    print(f\"Asegurado: {elemento['seguro']}\")\n",
        "    print()\n",
        "\n",
        "for numero,elemento in enumerate(pacienteslista, start=1):\n",
        "  nombre_pac=elemento.get(\"nombre\", \"Nombre no disponible\")\n",
        "  print(f\"El nombre del paciente {numero}: {nombre_pac}\")\n",
        "\n",
        "\n",
        "\n"
      ]
    },
    {
      "cell_type": "code",
      "source": [],
      "metadata": {
        "id": "X4cEbg9u3No3"
      },
      "execution_count": null,
      "outputs": []
    }
  ]
}